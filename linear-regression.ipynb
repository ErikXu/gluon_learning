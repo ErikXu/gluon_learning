{
 "cells": [
  {
   "cell_type": "code",
   "execution_count": 1,
   "metadata": {},
   "outputs": [],
   "source": [
    "from mxnet import autograd, nd, init, gluon\n",
    "from mxnet.gluon import nn, data as gdata, loss as gloss\n",
    "import numpy as np"
   ]
  },
  {
   "cell_type": "markdown",
   "metadata": {},
   "source": [
    "## 生成数据集"
   ]
  },
  {
   "cell_type": "code",
   "execution_count": 2,
   "metadata": {},
   "outputs": [
    {
     "name": "stdout",
     "output_type": "stream",
     "text": [
      "features： \n",
      "[[ 1.1630785e+00  4.8380461e-01  2.9956347e-01]\n",
      " [ 1.5302546e-01 -1.1688148e+00  1.5580710e+00]\n",
      " [-5.4594457e-01 -2.3556297e+00  5.4144025e-01]\n",
      " ...\n",
      " [-6.7329638e-05  2.0219166e+00 -1.0645875e+00]\n",
      " [ 1.8973123e-01 -1.5727270e+00  1.3594624e-01]\n",
      " [-1.6451789e+00  5.9507078e-01 -1.5699839e-02]]\n",
      "<NDArray 10000x3 @cpu(0)>\n",
      "labels： \n",
      "[ 5.62155   12.283315  10.751223  ... -3.5522704  8.511643   1.2163162]\n",
      "<NDArray 10000 @cpu(0)>\n"
     ]
    }
   ],
   "source": [
    "num_inputs = 3\n",
    "num_examples = 10000\n",
    "true_w = [1.1, -2.2, 3.3]\n",
    "true_b = 4.4\n",
    "features = nd.random.normal(scale=1, shape=(num_examples, num_inputs))\n",
    "labels = true_w[0] * features[:, 0] + true_w[1] * features[:, 1] + true_w[2] * features[:, 2] + true_b\n",
    "labels += nd.random.normal(scale=0.01, shape=labels.shape)\n",
    "print('features：', features)\n",
    "print('labels：', labels)"
   ]
  },
  {
   "cell_type": "markdown",
   "metadata": {},
   "source": [
    "## 读取数据集"
   ]
  },
  {
   "cell_type": "code",
   "execution_count": 3,
   "metadata": {},
   "outputs": [
    {
     "name": "stdout",
     "output_type": "stream",
     "text": [
      "\n",
      "[[-0.5767784  -0.4428551  -1.2591642 ]\n",
      " [ 0.767156    0.00393082  0.7827675 ]\n",
      " [ 1.3861587   0.13081668  0.48218653]\n",
      " [-0.41712606  0.80658615  2.4631624 ]\n",
      " [ 0.2165102  -2.4998713   0.4777952 ]\n",
      " [ 0.14601442  1.5703346   1.6983985 ]\n",
      " [-0.0636088   1.1851114  -0.33775288]\n",
      " [ 0.9161404  -0.0743828   1.2854688 ]\n",
      " [-0.00597976 -0.00504663  0.88081807]\n",
      " [ 1.1010166   2.2547026   0.927516  ]\n",
      " [ 0.15117064 -0.56956995 -1.4035162 ]\n",
      " [ 1.0352751  -0.06155001 -0.7781916 ]\n",
      " [-0.7944512   0.92204165 -0.30174804]\n",
      " [-0.01882095 -0.74916095  0.44509676]\n",
      " [ 0.36922586 -1.7841098  -1.0389587 ]\n",
      " [ 0.9197123  -1.1944344  -0.5842977 ]\n",
      " [ 1.1334809   0.49158767 -0.36942866]\n",
      " [ 0.72617674 -0.02762904  0.36120465]\n",
      " [ 0.3014626   1.1198691  -1.288111  ]\n",
      " [-0.14374009 -0.9276457  -1.0578752 ]\n",
      " [-0.27754712 -1.3157445   0.86454093]\n",
      " [ 0.01912635  0.42826512 -0.6306099 ]\n",
      " [ 0.5111985   0.2900958   0.60595375]\n",
      " [-0.5596014  -0.25511396 -0.96646553]\n",
      " [-0.18522854 -2.01737     0.4669863 ]\n",
      " [ 2.5810065  -1.1698867  -0.5647728 ]\n",
      " [-1.7549324  -1.6127838  -0.6290995 ]\n",
      " [-0.49482888 -0.38334337 -0.31286034]\n",
      " [-0.6079904   1.4227712  -1.430909  ]\n",
      " [-0.65184397  0.338425    0.59193027]\n",
      " [ 0.5824047  -1.3682683  -1.1922135 ]\n",
      " [-1.6136553   0.00800074  0.04500355]\n",
      " [-0.87012833 -1.2181067  -0.3229516 ]\n",
      " [ 0.01875208 -1.0414833   1.033471  ]\n",
      " [-1.983428    1.0113221   0.2652823 ]\n",
      " [-1.5660266  -0.2051851   0.6357989 ]\n",
      " [ 0.55051947  1.4200304  -1.089182  ]\n",
      " [ 1.2373419   1.1443216   0.01008252]\n",
      " [-2.08299    -0.8179029   1.1220722 ]\n",
      " [ 0.32177326  0.7271704   1.0007304 ]\n",
      " [-1.8549929  -0.6094763   0.06145715]\n",
      " [ 0.9831514  -1.3841822   0.4567429 ]\n",
      " [-0.35700008  1.4452748   0.93464005]\n",
      " [-1.3361033  -1.1444968   0.05648269]\n",
      " [-1.0986379   1.6918932  -0.44719613]\n",
      " [ 1.308485    2.5613575  -1.4453393 ]\n",
      " [-0.5778495   0.18701844 -0.7210756 ]\n",
      " [ 0.8183883   0.11208919 -1.8178581 ]\n",
      " [-0.97305053 -0.766898   -1.4458781 ]\n",
      " [-1.7335596   1.7469115   1.3101637 ]]\n",
      "<NDArray 50x3 @cpu(0)> \n",
      "[ 0.5982157   7.809516    7.217222   10.299393   11.723398    6.7212515\n",
      "  0.5964702   9.822147    7.3108263   3.7023067   1.1773744   3.1000826\n",
      "  0.48052636  7.502028    5.298757    6.101976    3.333454    6.4666057\n",
      " -1.9720349   2.7970464   9.848125    1.4009377   6.324743    1.147535\n",
      " 10.171531    7.9427104   3.9334164   3.664232   -4.1389036   4.8861737\n",
      "  4.1182947   2.7669504   5.059276   10.106881    0.8728988   5.200548\n",
      " -1.7385223   3.2936208   7.628431    6.449262    3.8898542  10.033004\n",
      "  3.924387    5.637731   -2.0096233  -4.5380588   0.9857307  -0.94619346\n",
      "  0.24515554  2.9780812 ]\n",
      "<NDArray 50 @cpu(0)>\n"
     ]
    }
   ],
   "source": [
    "batch_size = 50\n",
    "dataset = gdata.ArrayDataset(features, labels)\n",
    "data_iter = gdata.DataLoader(dataset, batch_size, shuffle=True)\n",
    "for x, y in data_iter:\n",
    "    print(x, y)\n",
    "    break"
   ]
  },
  {
   "cell_type": "code",
   "execution_count": 4,
   "metadata": {},
   "outputs": [],
   "source": [
    "net = nn.Sequential()\n",
    "net.add(nn.Dense(1))\n",
    "\n",
    "net.initialize(init.Normal(sigma=0.01))\n",
    "\n",
    "loss = gloss.L2Loss()\n",
    "\n",
    "trainer = gluon.Trainer(net.collect_params(), 'sgd', {'learning_rate': 0.01})"
   ]
  },
  {
   "cell_type": "markdown",
   "metadata": {},
   "source": [
    "## 训练模型"
   ]
  },
  {
   "cell_type": "code",
   "execution_count": 5,
   "metadata": {},
   "outputs": [
    {
     "name": "stdout",
     "output_type": "stream",
     "text": [
      "epoch 1, loss: 0.323812\n",
      "epoch 2, loss: 0.005820\n",
      "epoch 3, loss: 0.000153\n",
      "epoch 4, loss: 0.000052\n",
      "epoch 5, loss: 0.000050\n",
      "epoch 6, loss: 0.000050\n",
      "epoch 7, loss: 0.000050\n",
      "epoch 8, loss: 0.000050\n",
      "epoch 9, loss: 0.000050\n",
      "epoch 10, loss: 0.000050\n"
     ]
    }
   ],
   "source": [
    "num_epochs = 10\n",
    "for epoch in range(1, num_epochs + 1):\n",
    "    for x, y in data_iter:\n",
    "        with autograd.record():\n",
    "            l = loss(net(x), y)\n",
    "        l.backward()\n",
    "        trainer.step(batch_size)\n",
    "    l = loss(net(features), labels)\n",
    "    print('epoch %d, loss: %f' % (epoch, l.mean().asnumpy()))"
   ]
  },
  {
   "cell_type": "code",
   "execution_count": 6,
   "metadata": {},
   "outputs": [
    {
     "name": "stdout",
     "output_type": "stream",
     "text": [
      "true_w： [[1.1, -2.2, 3.3]]\n",
      "train_w： [[ 1.1002226 -2.1999476  3.2999659]]\n",
      "true_b： [4.4]\n",
      "train_b： [4.399887]\n"
     ]
    }
   ],
   "source": [
    "dense = net[0]\n",
    "print('true_w：', [true_w])\n",
    "print('train_w：', dense.weight.data().asnumpy())\n",
    "print('true_b：', [true_b])\n",
    "print('train_b：', dense.bias.data().asnumpy())"
   ]
  }
 ],
 "metadata": {
  "kernelspec": {
   "display_name": "Python 3",
   "language": "python",
   "name": "python3"
  },
  "language_info": {
   "codemirror_mode": {
    "name": "ipython",
    "version": 3
   },
   "file_extension": ".py",
   "mimetype": "text/x-python",
   "name": "python",
   "nbconvert_exporter": "python",
   "pygments_lexer": "ipython3",
   "version": "3.7.6"
  }
 },
 "nbformat": 4,
 "nbformat_minor": 4
}
